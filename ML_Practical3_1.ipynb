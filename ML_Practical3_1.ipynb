{
  "nbformat": 4,
  "nbformat_minor": 0,
  "metadata": {
    "colab": {
      "provenance": [],
      "authorship_tag": "ABX9TyNtWRwem2sjbP/3KJFwXKnh",
      "include_colab_link": true
    },
    "kernelspec": {
      "name": "python3",
      "display_name": "Python 3"
    },
    "language_info": {
      "name": "python"
    }
  },
  "cells": [
    {
      "cell_type": "markdown",
      "metadata": {
        "id": "view-in-github",
        "colab_type": "text"
      },
      "source": [
        "<a href=\"https://colab.research.google.com/github/AryaZade04/Machine_Learning_Lab/blob/main/ML_Practical3_1.ipynb\" target=\"_parent\"><img src=\"https://colab.research.google.com/assets/colab-badge.svg\" alt=\"Open In Colab\"/></a>"
      ]
    },
    {
      "cell_type": "code",
      "source": [
        "import pandas as pd\n",
        "\n",
        "# Load dataset\n",
        "df = pd.read_csv('//content/train.csv')\n",
        "\n",
        "# Show the first 5 rows\n",
        "print(df.head())\n"
      ],
      "metadata": {
        "colab": {
          "base_uri": "https://localhost:8080/"
        },
        "id": "c3lFI5XBCnkR",
        "outputId": "99166596-003e-47a4-881d-b00f99bac1dc"
      },
      "execution_count": 10,
      "outputs": [
        {
          "output_type": "stream",
          "name": "stdout",
          "text": [
            "   Id  MSSubClass MSZoning  LotFrontage  LotArea Street Alley LotShape  \\\n",
            "0   1          60       RL         65.0     8450   Pave   NaN      Reg   \n",
            "1   2          20       RL         80.0     9600   Pave   NaN      Reg   \n",
            "2   3          60       RL         68.0    11250   Pave   NaN      IR1   \n",
            "3   4          70       RL         60.0     9550   Pave   NaN      IR1   \n",
            "4   5          60       RL         84.0    14260   Pave   NaN      IR1   \n",
            "\n",
            "  LandContour Utilities  ... PoolArea PoolQC Fence MiscFeature MiscVal MoSold  \\\n",
            "0         Lvl    AllPub  ...        0    NaN   NaN         NaN       0      2   \n",
            "1         Lvl    AllPub  ...        0    NaN   NaN         NaN       0      5   \n",
            "2         Lvl    AllPub  ...        0    NaN   NaN         NaN       0      9   \n",
            "3         Lvl    AllPub  ...        0    NaN   NaN         NaN       0      2   \n",
            "4         Lvl    AllPub  ...        0    NaN   NaN         NaN       0     12   \n",
            "\n",
            "  YrSold  SaleType  SaleCondition  SalePrice  \n",
            "0   2008        WD         Normal     208500  \n",
            "1   2007        WD         Normal     181500  \n",
            "2   2008        WD         Normal     223500  \n",
            "3   2006        WD        Abnorml     140000  \n",
            "4   2008        WD         Normal     250000  \n",
            "\n",
            "[5 rows x 81 columns]\n"
          ]
        }
      ]
    },
    {
      "cell_type": "code",
      "source": [
        "# Identify object-type columns (categorical)\n",
        "categorical_cols = df.select_dtypes(include='object').columns.tolist()\n",
        "print(\"Categorical Columns:\", categorical_cols)\n"
      ],
      "metadata": {
        "colab": {
          "base_uri": "https://localhost:8080/"
        },
        "id": "fBHfJTSXCoHc",
        "outputId": "5ba9266a-411e-4853-c68f-b38baf386115"
      },
      "execution_count": 11,
      "outputs": [
        {
          "output_type": "stream",
          "name": "stdout",
          "text": [
            "Categorical Columns: ['MSZoning', 'Street', 'Alley', 'LotShape', 'LandContour', 'Utilities', 'LotConfig', 'LandSlope', 'Neighborhood', 'Condition1', 'Condition2', 'BldgType', 'HouseStyle', 'RoofStyle', 'RoofMatl', 'Exterior1st', 'Exterior2nd', 'MasVnrType', 'ExterQual', 'ExterCond', 'Foundation', 'BsmtQual', 'BsmtCond', 'BsmtExposure', 'BsmtFinType1', 'BsmtFinType2', 'Heating', 'HeatingQC', 'CentralAir', 'Electrical', 'KitchenQual', 'Functional', 'FireplaceQu', 'GarageType', 'GarageFinish', 'GarageQual', 'GarageCond', 'PavedDrive', 'PoolQC', 'Fence', 'MiscFeature', 'SaleType', 'SaleCondition']\n"
          ]
        }
      ]
    },
    {
      "cell_type": "code",
      "source": [
        "from sklearn.preprocessing import LabelEncoder\n",
        "\n",
        "# Make a copy for Label Encoding\n",
        "df_label_encoded = df.copy()\n",
        "\n",
        "# Apply Label Encoding to all categorical columns\n",
        "label_encoders = {}\n",
        "for col in categorical_cols:\n",
        "    le = LabelEncoder()\n",
        "    df_label_encoded[col] = le.fit_transform(df_label_encoded[col].astype(str))\n",
        "    label_encoders[col] = le  # Save the encoder\n",
        "\n",
        "# Show a sample\n",
        "print(df_label_encoded[categorical_cols].head())\n"
      ],
      "metadata": {
        "colab": {
          "base_uri": "https://localhost:8080/"
        },
        "id": "s2wU6EScCuEQ",
        "outputId": "87e78207-35ab-4803-f8c4-d6dd6f072e9c"
      },
      "execution_count": 12,
      "outputs": [
        {
          "output_type": "stream",
          "name": "stdout",
          "text": [
            "   MSZoning  Street  Alley  LotShape  LandContour  Utilities  LotConfig  \\\n",
            "0         3       1      2         3            3          0          4   \n",
            "1         3       1      2         3            3          0          2   \n",
            "2         3       1      2         0            3          0          4   \n",
            "3         3       1      2         0            3          0          0   \n",
            "4         3       1      2         0            3          0          2   \n",
            "\n",
            "   LandSlope  Neighborhood  Condition1  ...  GarageType  GarageFinish  \\\n",
            "0          0             5           2  ...           1             1   \n",
            "1          0            24           1  ...           1             1   \n",
            "2          0             5           2  ...           1             1   \n",
            "3          0             6           2  ...           5             2   \n",
            "4          0            15           2  ...           1             1   \n",
            "\n",
            "   GarageQual  GarageCond  PavedDrive  PoolQC  Fence  MiscFeature  SaleType  \\\n",
            "0           4           4           2       3      4            4         8   \n",
            "1           4           4           2       3      4            4         8   \n",
            "2           4           4           2       3      4            4         8   \n",
            "3           4           4           2       3      4            4         8   \n",
            "4           4           4           2       3      4            4         8   \n",
            "\n",
            "   SaleCondition  \n",
            "0              4  \n",
            "1              4  \n",
            "2              4  \n",
            "3              0  \n",
            "4              4  \n",
            "\n",
            "[5 rows x 43 columns]\n"
          ]
        }
      ]
    },
    {
      "cell_type": "code",
      "source": [
        "# Apply One-Hot Encoding using pandas\n",
        "df_onehot_encoded = pd.get_dummies(df, columns=categorical_cols, dtype=int)\n",
        "\n",
        "# Show result\n",
        "print(\"One-Hot Encoded Columns (sample):\")\n",
        "print(df_onehot_encoded.iloc[:, -10:].head())  # Last 10 columns to view encoding\n"
      ],
      "metadata": {
        "colab": {
          "base_uri": "https://localhost:8080/"
        },
        "id": "bqIX6WG8Cwsl",
        "outputId": "39da636a-1ae8-4f09-db1b-8dd9daa20d10"
      },
      "execution_count": 14,
      "outputs": [
        {
          "output_type": "stream",
          "name": "stdout",
          "text": [
            "One-Hot Encoded Columns (sample):\n",
            "   SaleType_ConLw  SaleType_New  SaleType_Oth  SaleType_WD  \\\n",
            "0               0             0             0            1   \n",
            "1               0             0             0            1   \n",
            "2               0             0             0            1   \n",
            "3               0             0             0            1   \n",
            "4               0             0             0            1   \n",
            "\n",
            "   SaleCondition_Abnorml  SaleCondition_AdjLand  SaleCondition_Alloca  \\\n",
            "0                      0                      0                     0   \n",
            "1                      0                      0                     0   \n",
            "2                      0                      0                     0   \n",
            "3                      1                      0                     0   \n",
            "4                      0                      0                     0   \n",
            "\n",
            "   SaleCondition_Family  SaleCondition_Normal  SaleCondition_Partial  \n",
            "0                     0                     1                      0  \n",
            "1                     0                     1                      0  \n",
            "2                     0                     1                      0  \n",
            "3                     0                     0                      0  \n",
            "4                     0                     1                      0  \n"
          ]
        }
      ]
    },
    {
      "cell_type": "code",
      "source": [],
      "metadata": {
        "id": "HupVbthNDA_G"
      },
      "execution_count": null,
      "outputs": []
    }
  ]
}